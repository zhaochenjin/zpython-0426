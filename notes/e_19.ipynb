{
  "cells": [
    {
      "cell_type": "code",
      "execution_count": null,
      "metadata": {
        "collapsed": true,
        "pycharm": {}
      },
      "outputs": [],
      "source": "\u003ca href\u003d\"https://colab.research.google.com/github/thu/python-0426/blob/master/notes/e_19.ipynb\" target\u003d\"_parent\"\u003e\u003cimg src\u003d\"https://colab.research.google.com/assets/colab-badge.svg\" alt\u003d\"Open In Colab\"/\u003e\u003c/a\u003e"
    },
    {
      "cell_type": "markdown",
      "source": "### 打印出如下图案（菱形）\n\n```\n      x\n     xxx\n    xxxxx\n   xxxxxxx\n    xxxxx\n     xxx\n      x\n```\n\u003e 要求只能使用：\n\n1. `print(\u0027 \u0027, end\u003d\u0027\u0027)`\n2. `print(\u0027x\u0027, end\u003d\u0027\u0027)`\n3. `print(\u0027x\u0027)`\n",
      "metadata": {
        "pycharm": {
          "metadata": false
        }
      }
    },
    {
      "cell_type": "markdown",
      "source": "## 基本思路\n\n1. 把菱形分解为上下两部分\n2. 分析每部分的规律\n3. 使用循环进行输出",
      "metadata": {
        "pycharm": {
          "metadata": false
        }
      }
    },
    {
      "cell_type": "code",
      "execution_count": 3,
      "outputs": [
        {
          "name": "stdout",
          "text": [
            "   x\n  xxx\n xxxxx\nxxxxxxx\n xxxxx\n  xxx\n   x\n"
          ],
          "output_type": "stream"
        }
      ],
      "source": "for i in range(1, 5):\n  for j in range(4-i, 0, -1):\n    print(\u0027 \u0027, end\u003d\u0027\u0027)\n  for k in range(0, (i-1)*2):\n    print(\u0027x\u0027, end\u003d\u0027\u0027)\n  print(\u0027x\u0027)\n  \nfor i in range(1,4):\n  for j in range (0, i):\n    print(\u0027 \u0027, end\u003d\u0027\u0027)\n  for k in range(4, (i-1)*2, -1):\n    print(\u0027x\u0027, end\u003d\u0027\u0027)\n  print(\u0027x\u0027)",
      "metadata": {
        "pycharm": {
          "metadata": false,
          "name": "#%%\n",
          "is_executing": false
        }
      }
    },
    {
      "cell_type": "code",
      "execution_count": 5,
      "outputs": [
        {
          "name": "stdout",
          "text": [
            "5\n  x\n xxx\nxxxxx\n xxx\n  x\n"
          ],
          "output_type": "stream"
        }
      ],
      "source": "n \u003d int(input())\nprint(n)\nfor i in range(1, (n//2)+2):\n  for j in range((n//2+1)-i, 0, -1):\n    print(\u0027 \u0027, end\u003d\u0027\u0027)\n  for k in range(0, (i-1)*2):\n    print(\u0027x\u0027, end\u003d\u0027\u0027)\n  print(\u0027x\u0027)\n  \nfor i in range(1,(n//2 + 1)):\n  for j in range (0, i):\n    print(\u0027 \u0027, end\u003d\u0027\u0027)\n  for k in range((n-3), (i-1)*2, -1):\n    print(\u0027x\u0027, end\u003d\u0027\u0027)\n  print(\u0027x\u0027)",
      "metadata": {
        "pycharm": {
          "metadata": false,
          "name": "#%%\n",
          "is_executing": false
        }
      }
    }
  ],
  "metadata": {
    "language_info": {
      "codemirror_mode": {
        "name": "ipython",
        "version": 2
      },
      "file_extension": ".py",
      "mimetype": "text/x-python",
      "name": "python",
      "nbconvert_exporter": "python",
      "pygments_lexer": "ipython2",
      "version": "2.7.6"
    },
    "kernelspec": {
      "name": "python3",
      "language": "python",
      "display_name": "Python 3"
    }
  },
  "nbformat": 4,
  "nbformat_minor": 0
}