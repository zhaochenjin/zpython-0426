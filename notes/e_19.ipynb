{
 "cells": [
  {
   "cell_type": "code",
   "execution_count": null,
   "metadata": {
    "collapsed": true,
    "pycharm": {}
   },
   "outputs": [],
   "source": [
    "<a href=\"https://colab.research.google.com/github/thu/python-0426/blob/master/notes/e_19.ipynb\" target=\"_parent\"><img src=\"https://colab.research.google.com/assets/colab-badge.svg\" alt=\"Open In Colab\"/></a>"
   ]
  },
  {
   "cell_type": "markdown",
   "metadata": {
    "pycharm": {
     "metadata": false
    }
   },
   "source": [
    "### 打印出如下图案（菱形）\n",
    "\n",
    "```\n",
    "      x\n",
    "     xxx\n",
    "    xxxxx\n",
    "   xxxxxxx\n",
    "    xxxxx\n",
    "     xxx\n",
    "      x\n",
    "```\n",
    "> 要求只能使用：\n",
    "\n",
    "1. `print(' ', end='')`\n",
    "2. `print('x', end='')`\n",
    "3. `print('x')`\n"
   ]
  },
  {
   "cell_type": "markdown",
   "metadata": {
    "pycharm": {
     "metadata": false
    }
   },
   "source": [
    "## 基本思路\n",
    "\n",
    "1. 把菱形分解为上下两部分\n",
    "2. 分析每部分的规律\n",
    "3. 使用循环进行输出"
   ]
  },
  {
   "cell_type": "code",
   "execution_count": 3,
   "metadata": {
    "pycharm": {
     "is_executing": false,
     "metadata": false,
     "name": "#%%\n"
    }
   },
   "outputs": [
    {
     "name": "stdout",
     "output_type": "stream",
     "text": [
      "   x\n",
      "  xxx\n",
      " xxxxx\n",
      "xxxxxxx\n",
      " xxxxx\n",
      "  xxx\n",
      "   x\n"
     ]
    }
   ],
   "source": [
    "for i in range(1, 5):\n",
    "  for j in range(4-i, 0, -1):\n",
    "    print(' ', end='')\n",
    "  for k in range(0, (i-1)*2):\n",
    "    print('x', end='')\n",
    "  print('x')\n",
    "  \n",
    "for i in range(1,4):\n",
    "  for j in range (0, i):\n",
    "    print(' ', end='')\n",
    "  for k in range(4, (i-1)*2, -1):\n",
    "    print('x', end='')\n",
    "  print('x')"
   ]
  },
  {
   "cell_type": "code",
   "execution_count": null,
   "metadata": {
    "pycharm": {
     "is_executing": false,
     "metadata": false,
     "name": "#%%\n"
    }
   },
   "outputs": [],
   "source": [
    "n = int(input())\n",
    "print(n)\n",
    "for i in range(1, (n//2)+2):\n",
    "  for j in range((n//2+1)-i, 0, -1):\n",
    "    print(' ', end='')\n",
    "  for k in range(0, (i-1)*2):\n",
    "    print('x', end='')\n",
    "  print('x')\n",
    "  \n",
    "for i in range(1,(n//2 + 1)):\n",
    "  for j in range (0, i):\n",
    "    print(' ', end='')\n",
    "  for k in range((n-3), (i-1)*2, -1):\n",
    "    print('x', end='')\n",
    "  print('x')"
   ]
  },
  {
   "cell_type": "code",
   "execution_count": null,
   "metadata": {},
   "outputs": [],
   "source": [
    "7"
   ]
  },
  {
   "cell_type": "code",
   "execution_count": null,
   "metadata": {},
   "outputs": [],
   "source": []
  }
 ],
 "metadata": {
  "kernelspec": {
   "display_name": "Python 3",
   "language": "python",
   "name": "python3"
  },
  "language_info": {
   "codemirror_mode": {
    "name": "ipython",
    "version": 3
   },
   "file_extension": ".py",
   "mimetype": "text/x-python",
   "name": "python",
   "nbconvert_exporter": "python",
   "pygments_lexer": "ipython3",
   "version": "3.7.3"
  }
 },
 "nbformat": 4,
 "nbformat_minor": 1
}
